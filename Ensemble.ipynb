{
 "cells": [
  {
   "cell_type": "code",
   "execution_count": 1,
   "metadata": {},
   "outputs": [],
   "source": [
    "import numpy as np\n",
    "import pandas as pd\n",
    "import matplotlib.pyplot as plt\n",
    "import seaborn as sns\n",
    "%matplotlib inline"
   ]
  },
  {
   "cell_type": "code",
   "execution_count": 2,
   "metadata": {},
   "outputs": [],
   "source": [
    "data=pd.read_csv('analysis_rfm_1010nooutlier.csv')"
   ]
  },
  {
   "cell_type": "code",
   "execution_count": 3,
   "metadata": {},
   "outputs": [
    {
     "data": {
      "text/html": [
       "<div>\n",
       "<style scoped>\n",
       "    .dataframe tbody tr th:only-of-type {\n",
       "        vertical-align: middle;\n",
       "    }\n",
       "\n",
       "    .dataframe tbody tr th {\n",
       "        vertical-align: top;\n",
       "    }\n",
       "\n",
       "    .dataframe thead th {\n",
       "        text-align: right;\n",
       "    }\n",
       "</style>\n",
       "<table border=\"1\" class=\"dataframe\">\n",
       "  <thead>\n",
       "    <tr style=\"text-align: right;\">\n",
       "      <th></th>\n",
       "      <th>restart_number</th>\n",
       "      <th>map_name</th>\n",
       "      <th>difficulty</th>\n",
       "      <th>win_loss_quit</th>\n",
       "      <th>round_reached</th>\n",
       "      <th>lives_left</th>\n",
       "      <th>player_rank</th>\n",
       "      <th>current_shards</th>\n",
       "      <th>current_gold</th>\n",
       "      <th>current_gems</th>\n",
       "      <th>...</th>\n",
       "      <th>initial_nappopen</th>\n",
       "      <th>initial_ngames</th>\n",
       "      <th>initial_ndays</th>\n",
       "      <th>n_games</th>\n",
       "      <th>wlqgtr_cnt</th>\n",
       "      <th>active_days</th>\n",
       "      <th>platform</th>\n",
       "      <th>iphoneplayer</th>\n",
       "      <th>android</th>\n",
       "      <th>steam</th>\n",
       "    </tr>\n",
       "    <tr>\n",
       "      <th>userid</th>\n",
       "      <th></th>\n",
       "      <th></th>\n",
       "      <th></th>\n",
       "      <th></th>\n",
       "      <th></th>\n",
       "      <th></th>\n",
       "      <th></th>\n",
       "      <th></th>\n",
       "      <th></th>\n",
       "      <th></th>\n",
       "      <th></th>\n",
       "      <th></th>\n",
       "      <th></th>\n",
       "      <th></th>\n",
       "      <th></th>\n",
       "      <th></th>\n",
       "      <th></th>\n",
       "      <th></th>\n",
       "      <th></th>\n",
       "      <th></th>\n",
       "      <th></th>\n",
       "    </tr>\n",
       "  </thead>\n",
       "  <tbody>\n",
       "    <tr>\n",
       "      <th>NO_LINK02F380F1-7E3F-45E7-B017-5A4FE37EE339</th>\n",
       "      <td>0</td>\n",
       "      <td>map_Cyclops_Tears</td>\n",
       "      <td>Hard</td>\n",
       "      <td>Win</td>\n",
       "      <td>60</td>\n",
       "      <td>100</td>\n",
       "      <td>41</td>\n",
       "      <td>194</td>\n",
       "      <td>913</td>\n",
       "      <td>123</td>\n",
       "      <td>...</td>\n",
       "      <td>19</td>\n",
       "      <td>52</td>\n",
       "      <td>12</td>\n",
       "      <td>178</td>\n",
       "      <td>18</td>\n",
       "      <td>180</td>\n",
       "      <td>Android</td>\n",
       "      <td>0.0</td>\n",
       "      <td>1.0</td>\n",
       "      <td>0.0</td>\n",
       "    </tr>\n",
       "    <tr>\n",
       "      <th>NO_LINK038c0194ca0f1e0dbd0e48860dfd02e4</th>\n",
       "      <td>0</td>\n",
       "      <td>map_WinterIsComing_SnowPlains</td>\n",
       "      <td>Easy</td>\n",
       "      <td>Win</td>\n",
       "      <td>30</td>\n",
       "      <td>175</td>\n",
       "      <td>2</td>\n",
       "      <td>20</td>\n",
       "      <td>760</td>\n",
       "      <td>9</td>\n",
       "      <td>...</td>\n",
       "      <td>18</td>\n",
       "      <td>37</td>\n",
       "      <td>9</td>\n",
       "      <td>44</td>\n",
       "      <td>11</td>\n",
       "      <td>184</td>\n",
       "      <td>Android</td>\n",
       "      <td>0.0</td>\n",
       "      <td>1.0</td>\n",
       "      <td>0.0</td>\n",
       "    </tr>\n",
       "    <tr>\n",
       "      <th>NO_LINK03de89217dd2c340f47ee91ac083b1d2</th>\n",
       "      <td>0</td>\n",
       "      <td>map_Enchiridion_HotdogPrincessKingdom</td>\n",
       "      <td>Medium</td>\n",
       "      <td>Win</td>\n",
       "      <td>45</td>\n",
       "      <td>150</td>\n",
       "      <td>9</td>\n",
       "      <td>126</td>\n",
       "      <td>116</td>\n",
       "      <td>58</td>\n",
       "      <td>...</td>\n",
       "      <td>11</td>\n",
       "      <td>23</td>\n",
       "      <td>9</td>\n",
       "      <td>26</td>\n",
       "      <td>13</td>\n",
       "      <td>16</td>\n",
       "      <td>Android</td>\n",
       "      <td>0.0</td>\n",
       "      <td>1.0</td>\n",
       "      <td>0.0</td>\n",
       "    </tr>\n",
       "    <tr>\n",
       "      <th>NO_LINK066c43914fe0419e38f34042ef0ed7e9</th>\n",
       "      <td>0</td>\n",
       "      <td>map_PirateInPeril_UnderwaterChasm</td>\n",
       "      <td>Easy</td>\n",
       "      <td>Win</td>\n",
       "      <td>30</td>\n",
       "      <td>200</td>\n",
       "      <td>4</td>\n",
       "      <td>95</td>\n",
       "      <td>1652</td>\n",
       "      <td>35</td>\n",
       "      <td>...</td>\n",
       "      <td>1</td>\n",
       "      <td>2</td>\n",
       "      <td>1</td>\n",
       "      <td>12</td>\n",
       "      <td>3</td>\n",
       "      <td>122</td>\n",
       "      <td>Android</td>\n",
       "      <td>0.0</td>\n",
       "      <td>1.0</td>\n",
       "      <td>0.0</td>\n",
       "    </tr>\n",
       "    <tr>\n",
       "      <th>NO_LINK1ccb9958acfa54eb1b1024473fd9d593a7b5fc6b</th>\n",
       "      <td>0</td>\n",
       "      <td>map_WinterIsComing_SnowPlains</td>\n",
       "      <td>Medium</td>\n",
       "      <td>Quit</td>\n",
       "      <td>0</td>\n",
       "      <td>150</td>\n",
       "      <td>10</td>\n",
       "      <td>170</td>\n",
       "      <td>81</td>\n",
       "      <td>42</td>\n",
       "      <td>...</td>\n",
       "      <td>3</td>\n",
       "      <td>14</td>\n",
       "      <td>2</td>\n",
       "      <td>36</td>\n",
       "      <td>6</td>\n",
       "      <td>99</td>\n",
       "      <td>Android</td>\n",
       "      <td>0.0</td>\n",
       "      <td>1.0</td>\n",
       "      <td>0.0</td>\n",
       "    </tr>\n",
       "  </tbody>\n",
       "</table>\n",
       "<p>5 rows × 40 columns</p>\n",
       "</div>"
      ],
      "text/plain": [
       "                                                 restart_number  \\\n",
       "userid                                                            \n",
       "NO_LINK02F380F1-7E3F-45E7-B017-5A4FE37EE339                   0   \n",
       "NO_LINK038c0194ca0f1e0dbd0e48860dfd02e4                       0   \n",
       "NO_LINK03de89217dd2c340f47ee91ac083b1d2                       0   \n",
       "NO_LINK066c43914fe0419e38f34042ef0ed7e9                       0   \n",
       "NO_LINK1ccb9958acfa54eb1b1024473fd9d593a7b5fc6b               0   \n",
       "\n",
       "                                                                              map_name  \\\n",
       "userid                                                                                   \n",
       "NO_LINK02F380F1-7E3F-45E7-B017-5A4FE37EE339                          map_Cyclops_Tears   \n",
       "NO_LINK038c0194ca0f1e0dbd0e48860dfd02e4                  map_WinterIsComing_SnowPlains   \n",
       "NO_LINK03de89217dd2c340f47ee91ac083b1d2          map_Enchiridion_HotdogPrincessKingdom   \n",
       "NO_LINK066c43914fe0419e38f34042ef0ed7e9              map_PirateInPeril_UnderwaterChasm   \n",
       "NO_LINK1ccb9958acfa54eb1b1024473fd9d593a7b5fc6b          map_WinterIsComing_SnowPlains   \n",
       "\n",
       "                                                difficulty win_loss_quit  \\\n",
       "userid                                                                     \n",
       "NO_LINK02F380F1-7E3F-45E7-B017-5A4FE37EE339           Hard           Win   \n",
       "NO_LINK038c0194ca0f1e0dbd0e48860dfd02e4               Easy           Win   \n",
       "NO_LINK03de89217dd2c340f47ee91ac083b1d2             Medium           Win   \n",
       "NO_LINK066c43914fe0419e38f34042ef0ed7e9               Easy           Win   \n",
       "NO_LINK1ccb9958acfa54eb1b1024473fd9d593a7b5fc6b     Medium          Quit   \n",
       "\n",
       "                                                 round_reached  lives_left  \\\n",
       "userid                                                                       \n",
       "NO_LINK02F380F1-7E3F-45E7-B017-5A4FE37EE339                 60         100   \n",
       "NO_LINK038c0194ca0f1e0dbd0e48860dfd02e4                     30         175   \n",
       "NO_LINK03de89217dd2c340f47ee91ac083b1d2                     45         150   \n",
       "NO_LINK066c43914fe0419e38f34042ef0ed7e9                     30         200   \n",
       "NO_LINK1ccb9958acfa54eb1b1024473fd9d593a7b5fc6b              0         150   \n",
       "\n",
       "                                                 player_rank  current_shards  \\\n",
       "userid                                                                         \n",
       "NO_LINK02F380F1-7E3F-45E7-B017-5A4FE37EE339               41             194   \n",
       "NO_LINK038c0194ca0f1e0dbd0e48860dfd02e4                    2              20   \n",
       "NO_LINK03de89217dd2c340f47ee91ac083b1d2                    9             126   \n",
       "NO_LINK066c43914fe0419e38f34042ef0ed7e9                    4              95   \n",
       "NO_LINK1ccb9958acfa54eb1b1024473fd9d593a7b5fc6b           10             170   \n",
       "\n",
       "                                                 current_gold  current_gems  \\\n",
       "userid                                                                        \n",
       "NO_LINK02F380F1-7E3F-45E7-B017-5A4FE37EE339               913           123   \n",
       "NO_LINK038c0194ca0f1e0dbd0e48860dfd02e4                   760             9   \n",
       "NO_LINK03de89217dd2c340f47ee91ac083b1d2                   116            58   \n",
       "NO_LINK066c43914fe0419e38f34042ef0ed7e9                  1652            35   \n",
       "NO_LINK1ccb9958acfa54eb1b1024473fd9d593a7b5fc6b            81            42   \n",
       "\n",
       "                                                 ...  initial_nappopen  \\\n",
       "userid                                           ...                     \n",
       "NO_LINK02F380F1-7E3F-45E7-B017-5A4FE37EE339      ...                19   \n",
       "NO_LINK038c0194ca0f1e0dbd0e48860dfd02e4          ...                18   \n",
       "NO_LINK03de89217dd2c340f47ee91ac083b1d2          ...                11   \n",
       "NO_LINK066c43914fe0419e38f34042ef0ed7e9          ...                 1   \n",
       "NO_LINK1ccb9958acfa54eb1b1024473fd9d593a7b5fc6b  ...                 3   \n",
       "\n",
       "                                                 initial_ngames initial_ndays  \\\n",
       "userid                                                                          \n",
       "NO_LINK02F380F1-7E3F-45E7-B017-5A4FE37EE339                  52            12   \n",
       "NO_LINK038c0194ca0f1e0dbd0e48860dfd02e4                      37             9   \n",
       "NO_LINK03de89217dd2c340f47ee91ac083b1d2                      23             9   \n",
       "NO_LINK066c43914fe0419e38f34042ef0ed7e9                       2             1   \n",
       "NO_LINK1ccb9958acfa54eb1b1024473fd9d593a7b5fc6b              14             2   \n",
       "\n",
       "                                                 n_games  wlqgtr_cnt  \\\n",
       "userid                                                                 \n",
       "NO_LINK02F380F1-7E3F-45E7-B017-5A4FE37EE339          178          18   \n",
       "NO_LINK038c0194ca0f1e0dbd0e48860dfd02e4               44          11   \n",
       "NO_LINK03de89217dd2c340f47ee91ac083b1d2               26          13   \n",
       "NO_LINK066c43914fe0419e38f34042ef0ed7e9               12           3   \n",
       "NO_LINK1ccb9958acfa54eb1b1024473fd9d593a7b5fc6b       36           6   \n",
       "\n",
       "                                                 active_days  platform  \\\n",
       "userid                                                                   \n",
       "NO_LINK02F380F1-7E3F-45E7-B017-5A4FE37EE339              180   Android   \n",
       "NO_LINK038c0194ca0f1e0dbd0e48860dfd02e4                  184   Android   \n",
       "NO_LINK03de89217dd2c340f47ee91ac083b1d2                   16   Android   \n",
       "NO_LINK066c43914fe0419e38f34042ef0ed7e9                  122   Android   \n",
       "NO_LINK1ccb9958acfa54eb1b1024473fd9d593a7b5fc6b           99   Android   \n",
       "\n",
       "                                                 iphoneplayer  android  steam  \n",
       "userid                                                                         \n",
       "NO_LINK02F380F1-7E3F-45E7-B017-5A4FE37EE339               0.0      1.0    0.0  \n",
       "NO_LINK038c0194ca0f1e0dbd0e48860dfd02e4                   0.0      1.0    0.0  \n",
       "NO_LINK03de89217dd2c340f47ee91ac083b1d2                   0.0      1.0    0.0  \n",
       "NO_LINK066c43914fe0419e38f34042ef0ed7e9                   0.0      1.0    0.0  \n",
       "NO_LINK1ccb9958acfa54eb1b1024473fd9d593a7b5fc6b           0.0      1.0    0.0  \n",
       "\n",
       "[5 rows x 40 columns]"
      ]
     },
     "execution_count": 3,
     "metadata": {},
     "output_type": "execute_result"
    }
   ],
   "source": [
    "del data['Unnamed: 0']\n",
    "data=data.set_index('userid')\n",
    "data.head()"
   ]
  },
  {
   "cell_type": "code",
   "execution_count": 4,
   "metadata": {},
   "outputs": [],
   "source": [
    "from sklearn import preprocessing\n",
    "le = preprocessing.LabelEncoder()\n",
    "data['platform']= le.fit_transform(data['platform'])\n",
    "data['win_loss_quit'] = le.fit_transform(data['win_loss_quit'])\n",
    "data['difficulty'] = le.fit_transform(data['difficulty'])\n",
    "data['map_name'] = le.fit_transform(data['map_name'])\n",
    "data['active_status'] = le.fit_transform(data['active_status'])"
   ]
  },
  {
   "cell_type": "code",
   "execution_count": 5,
   "metadata": {},
   "outputs": [],
   "source": [
    "feature_cols = ['map_name','difficulty','win_loss_quit','round_reached','lives_left','player_rank','current_shards','current_gold','current_gems','countofdays','frequency_in_total','app_opened_perday_median','avg_duration_mins','difficulty_skull','easy_count','medium_count','hard_count','impoppable_count','active_weeks','initial_2_weeks','initial_nappopen','initial_ngames','initial_ndays','n_games','wlqgtr_cnt','platform','iphoneplayer','steam','android']"
   ]
  },
  {
   "cell_type": "code",
   "execution_count": 6,
   "metadata": {},
   "outputs": [],
   "source": [
    "x=data[feature_cols]\n",
    "y=data.active_status"
   ]
  },
  {
   "cell_type": "code",
   "execution_count": 7,
   "metadata": {},
   "outputs": [],
   "source": [
    "from sklearn.model_selection import train_test_split\n",
    "x_train,x_test, y_train, y_test=train_test_split(x,y,test_size=0.30)\n"
   ]
  },
  {
   "cell_type": "code",
   "execution_count": 8,
   "metadata": {},
   "outputs": [],
   "source": [
    "from sklearn.tree import DecisionTreeClassifier\n",
    "dtc = DecisionTreeClassifier(max_depth=10)\n",
    "# Train Decision Tree Classifer\n",
    "dtc = dtc.fit(x_train,y_train)\n",
    "#Predict the response for test dataset\n",
    "y_pred = dtc.predict(x_test)"
   ]
  },
  {
   "cell_type": "code",
   "execution_count": 9,
   "metadata": {},
   "outputs": [
    {
     "name": "stderr",
     "output_type": "stream",
     "text": [
      "[Parallel(n_jobs=-1)]: Using backend ThreadingBackend with 24 concurrent workers.\n",
      "[Parallel(n_jobs=-1)]: Done   2 tasks      | elapsed:   57.2s\n",
      "[Parallel(n_jobs=-1)]: Done 100 out of 100 | elapsed:  4.6min finished\n"
     ]
    },
    {
     "data": {
      "text/plain": [
       "RandomForestClassifier(bootstrap=True, class_weight=None, criterion='gini',\n",
       "                       max_depth=None, max_features='sqrt', max_leaf_nodes=None,\n",
       "                       min_impurity_decrease=0.0, min_impurity_split=None,\n",
       "                       min_samples_leaf=1, min_samples_split=2,\n",
       "                       min_weight_fraction_leaf=0.0, n_estimators=100,\n",
       "                       n_jobs=-1, oob_score=False, random_state=0, verbose=1,\n",
       "                       warm_start=False)"
      ]
     },
     "execution_count": 9,
     "metadata": {},
     "output_type": "execute_result"
    }
   ],
   "source": [
    "from sklearn.ensemble import RandomForestClassifier\n",
    "from sklearn.model_selection import GridSearchCV\n",
    "#create a new random forest classifier\n",
    "rf =  RandomForestClassifier(n_estimators=100,  \n",
    "random_state=0,  \n",
    "max_features = 'sqrt',  \n",
    "n_jobs=-1, verbose = 1)\n",
    "#fit model to training data\n",
    "rf.fit(x_train, y_train)\n"
   ]
  },
  {
   "cell_type": "code",
   "execution_count": 10,
   "metadata": {},
   "outputs": [
    {
     "name": "stderr",
     "output_type": "stream",
     "text": [
      "/home/nkadmin/anaconda3/lib/python3.7/site-packages/sklearn/linear_model/logistic.py:432: FutureWarning: Default solver will be changed to 'lbfgs' in 0.22. Specify a solver to silence this warning.\n",
      "  FutureWarning)\n",
      "/home/nkadmin/anaconda3/lib/python3.7/site-packages/sklearn/linear_model/logistic.py:469: FutureWarning: Default multi_class will be changed to 'auto' in 0.22. Specify the multi_class option to silence this warning.\n",
      "  \"this warning.\", FutureWarning)\n",
      "/home/nkadmin/anaconda3/lib/python3.7/site-packages/sklearn/svm/base.py:929: ConvergenceWarning: Liblinear failed to converge, increase the number of iterations.\n",
      "  \"the number of iterations.\", ConvergenceWarning)\n"
     ]
    },
    {
     "data": {
      "text/plain": [
       "LogisticRegression(C=1.0, class_weight=None, dual=False, fit_intercept=True,\n",
       "                   intercept_scaling=1, l1_ratio=None, max_iter=100,\n",
       "                   multi_class='warn', n_jobs=None, penalty='l2',\n",
       "                   random_state=None, solver='warn', tol=0.0001, verbose=0,\n",
       "                   warm_start=False)"
      ]
     },
     "execution_count": 10,
     "metadata": {},
     "output_type": "execute_result"
    }
   ],
   "source": [
    "from sklearn.linear_model import LogisticRegression\n",
    "#create a new logistic regression model\n",
    "log_reg = LogisticRegression()\n",
    "#fit the model to the training data\n",
    "log_reg.fit(x_train, y_train)"
   ]
  },
  {
   "cell_type": "code",
   "execution_count": null,
   "metadata": {},
   "outputs": [],
   "source": [
    "from sklearn.ensemble import AdaBoostClassifier\n",
    "abc = AdaBoostClassifier(n_estimators=50,\n",
    "                         learning_rate=1)\n",
    "# Train Adaboost Classifer\n",
    "model = abc.fit(x_train, y_train)\n",
    "\n",
    "#Predict the response for test dataset\n",
    "y_pred = model.predict(x_test)"
   ]
  },
  {
   "cell_type": "code",
   "execution_count": 23,
   "metadata": {},
   "outputs": [
    {
     "data": {
      "image/png": "[encoded data removed]",
      "text/plain": [
       "<Figure size 432x288 with 2 Axes>"
      ]
     },
     "metadata": {
      "needs_background": "light"
     },
     "output_type": "display_data"
    }
   ],
   "source": [
    "from sklearn.metrics import confusion_matrix\n",
    "confusion_matrix= confusion_matrix(y_test, y_pred)\n",
    "confusion_matrix_df = pd.DataFrame(confusion_matrix)\n",
    "heatmap = sns.heatmap(confusion_matrix_df, annot=True, annot_kws={\"size\": 10}, fmt=\"d\")\n",
    "heatmap.yaxis.set_ticklabels(heatmap.yaxis.get_ticklabels(), rotation=0, ha='right', fontsize = 11)\n",
    "heatmap.xaxis.set_ticklabels(heatmap.xaxis.get_ticklabels(), rotation=45, ha='right', fontsize = 11)\n",
    "plt.ylabel('True label', fontsize = 11)\n",
    "plt.xlabel('Predicted label', fontsize = 11)\n",
    "plt.tight_layout()"
   ]
  },
  {
   "cell_type": "code",
   "execution_count": 27,
   "metadata": {},
   "outputs": [],
   "source": [
    "from sklearn.linear_model import SGDClassifier\n",
    "SGD = SGDClassifier(alpha=0.001, loss='modified_huber', max_iter=100, tol=1e-3).fit(x_train, y_train)"
   ]
  },
  {
   "cell_type": "code",
   "execution_count": 28,
   "metadata": {},
   "outputs": [
    {
     "name": "stdout",
     "output_type": "stream",
     "text": [
      "dtc: 0.9469229310403126\n"
     ]
    },
    {
     "name": "stderr",
     "output_type": "stream",
     "text": [
      "[Parallel(n_jobs=24)]: Using backend ThreadingBackend with 24 concurrent workers.\n",
      "[Parallel(n_jobs=24)]: Done   2 tasks      | elapsed:    1.7s\n",
      "[Parallel(n_jobs=24)]: Done 100 out of 100 | elapsed:    9.7s finished\n"
     ]
    },
    {
     "name": "stdout",
     "output_type": "stream",
     "text": [
      "rf: 0.9450896709687757\n",
      "log_reg: 0.945077174809507\n",
      "abc: 0.9464789498521777\n",
      "SGD: 0.944339901412654\n"
     ]
    }
   ],
   "source": [
    "print('dtc: {}'.format(dtc.score(x_test, y_test)))\n",
    "print('rf: {}'.format(rf.score(x_test, y_test)))\n",
    "print('log_reg: {}'.format(log_reg.score(x_test, y_test)))\n",
    "print('abc: {}'.format(abc.score(x_test, y_test)))\n",
    "print('SGD: {}'.format(SGD.score(x_test, y_test)))\n"
   ]
  },
  {
   "cell_type": "code",
   "execution_count": 29,
   "metadata": {},
   "outputs": [],
   "source": [
    "from sklearn.ensemble import VotingClassifier\n",
    "#create a dictionary of our models\n",
    "estimators=[('dtc', dtc), ('rf', rf), ('log_reg', log_reg), ('abc', abc),('SGD', SGD)]\n",
    "#create our voting classifier, inputting our models\n",
    "ensemble = VotingClassifier(estimators, voting='hard')\n",
    "#fit model to training data\n",
    "ensemble.fit(x_train, y_train)\n",
    "#test our model on the test data\n",
    "ensemble.score(x_test, y_test)\n"
   ]
  },
  {
   "cell_type": "code",
   "execution_count": null,
   "metadata": {},
   "outputs": [],
   "source": [
    "from sklearn.metrics import confusion_matrix\n",
    "confusion_matrix= confusion_matrix(y_test, ensemble.predict(x_test))\n",
    "confusion_matrix_df = pd.DataFrame(confusion_matrix)\n",
    "heatmap = sns.heatmap(confusion_matrix_df, annot=True, annot_kws={\"size\": 10}, fmt=\"d\")\n",
    "heatmap.yaxis.set_ticklabels(heatmap.yaxis.get_ticklabels(), rotation=0, ha='right', fontsize = 11)\n",
    "heatmap.xaxis.set_ticklabels(heatmap.xaxis.get_ticklabels(), rotation=45, ha='right', fontsize = 11)\n",
    "plt.ylabel('True label', fontsize = 11)\n",
    "plt.xlabel('Predicted label', fontsize = 11)\n",
    "plt.tight_layout()"
   ]
  },
  {
   "cell_type": "code",
   "execution_count": 52,
   "metadata": {},
   "outputs": [
    {
     "data": {
      "image/png": "[encoded data removed]",
      "text/plain": [
       "<Figure size 432x288 with 1 Axes>"
      ]
     },
     "metadata": {
      "needs_background": "light"
     },
     "output_type": "display_data"
    }
   ],
   "source": [
    "fpr = dict()\n",
    "tpr = dict()\n",
    "roc_auc = dict()\n",
    "for i in range(n_classes):\n",
    "    fpr[i], tpr[i], _ = roc_curve(y_test[:, i], y_score[:, i])\n",
    "    roc_auc[i] = auc(fpr[i], tpr[i])\n",
    "colors = cycle(['blue', 'red', 'green'])\n",
    "for i, color in zip(range(n_classes), colors):\n",
    "    plt.plot(fpr[i], tpr[i], color=color, lw=lw,\n",
    "             label='ROC curve of class {0} (area = {1:0.2f})'\n",
    "             ''.format(i, roc_auc[i]))\n",
    "plt.plot([0, 1], [0, 1], 'k--', lw=lw)\n",
    "plt.xlim([-0.05, 1.0])\n",
    "plt.ylim([0.0, 1.05])\n",
    "plt.xlabel('False Positive Rate')\n",
    "plt.ylabel('True Positive Rate')\n",
    "plt.title('Receiver operating characteristic for multi-class data')\n",
    "plt.legend(loc=\"lower right\")\n",
    "plt.show()"
   ]
  },
  {
   "cell_type": "code",
   "execution_count": 37,
   "metadata": {},
   "outputs": [],
   "source": [
    "y_pred=clf.predict(x_test)"
   ]
  },
  {
   "cell_type": "code",
   "execution_count": 34,
   "metadata": {},
   "outputs": [
    {
     "data": {
      "image/png": "[encoded data removed]",
      "text/plain": [
       "<Figure size 432x288 with 2 Axes>"
      ]
     },
     "metadata": {
      "needs_background": "light"
     },
     "output_type": "display_data"
    }
   ],
   "source": [
    "from sklearn.metrics import confusion_matrix\n",
    "confusion_matrix= confusion_matrix(y_test, clf.predict(x_test))\n",
    "confusion_matrix_df = pd.DataFrame(confusion_matrix)\n",
    "heatmap = sns.heatmap(confusion_matrix_df, annot=True, annot_kws={\"size\": 10}, fmt=\"d\")\n",
    "heatmap.yaxis.set_ticklabels(heatmap.yaxis.get_ticklabels(), rotation=0, ha='right', fontsize = 11)\n",
    "heatmap.xaxis.set_ticklabels(heatmap.xaxis.get_ticklabels(), rotation=45, ha='right', fontsize = 11)\n",
    "plt.ylabel('True label', fontsize = 11)\n",
    "plt.xlabel('Predicted label', fontsize = 11)\n",
    "plt.tight_layout()"
   ]
  },
  {
   "cell_type": "code",
   "execution_count": 39,
   "metadata": {
    "scrolled": false
   },
   "outputs": [
    {
     "name": "stdout",
     "output_type": "stream",
     "text": [
      "0.9441921527060065\n"
     ]
    },
    {
     "name": "stderr",
     "output_type": "stream",
     "text": [
      "/home/nkadmin/anaconda3/lib/python3.7/site-packages/sklearn/metrics/classification.py:1259: UserWarning: Note that pos_label (set to 'positive') is ignored when average != 'binary' (got 'weighted'). You may use labels=[pos_label] to specify a single positive class.\n",
      "  % (pos_label, average), UserWarning)\n"
     ]
    },
    {
     "name": "stdout",
     "output_type": "stream",
     "text": [
      "0.9070174472467649\n",
      "0.9441921527060065\n",
      "0.9186011090826058\n"
     ]
    }
   ],
   "source": [
    "from sklearn.metrics import accuracy_score\n",
    "from sklearn.metrics import f1_score\n",
    "from sklearn.metrics import precision_score\n",
    "from sklearn.metrics import recall_score\n",
    "\n",
    "\n",
    "print(accuracy_score(y_test,y_pred ))\n",
    "print(precision_score(y_test, y_pred,pos_label='positive',average='weighted'))\n",
    "print(recall_score(y_test, y_pred,pos_label='positive',average='weighted'))\n",
    "print(f1_score(y_test, y_pred,pos_label='positive',average='weighted'))\n"
   ]
  },
  {
   "cell_type": "code",
   "execution_count": 20,
   "metadata": {},
   "outputs": [],
   "source": [
    "from sklearn import svm\n",
    "clf = svm.SVC(gamma='scale', decision_function_shape='ovo')"
   ]
  },
  {
   "cell_type": "code",
   "execution_count": null,
   "metadata": {},
   "outputs": [],
   "source": [
    "clf.fit(x_train, y_train)"
   ]
  }
 ],
 "metadata": {
  "kernelspec": {
   "display_name": "Python 3",
   "language": "python",
   "name": "python3"
  },
  "language_info": {
   "codemirror_mode": {
    "name": "ipython",
    "version": 3
   },
   "file_extension": ".py",
   "mimetype": "text/x-python",
   "name": "python",
   "nbconvert_exporter": "python",
   "pygments_lexer": "ipython3",
   "version": "3.7.1"
  }
 },
 "nbformat": 4,
 "nbformat_minor": 2
}
